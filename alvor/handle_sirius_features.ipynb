{
 "cells": [
  {
   "cell_type": "code",
   "execution_count": 1,
   "id": "f5ea183b",
   "metadata": {},
   "outputs": [],
   "source": [
    "import pandas as pd\n",
    "import numpy as np\n",
    "import pickle\n",
    "from tqdm.notebook import tqdm\n",
    "from otto_utils import *"
   ]
  },
  {
   "cell_type": "code",
   "execution_count": 2,
   "id": "934e1567",
   "metadata": {},
   "outputs": [],
   "source": [
    "bigram_normed = pd.concat(\n",
    "    [\n",
    "        pd.read_parquet(\"matrices/alvor_bigram/bigram_normed/0.parquet\"),\n",
    "        pd.read_parquet(\"matrices/alvor_bigram/bigram_normed/1.parquet\"),\n",
    "        pd.read_parquet(\"matrices/alvor_bigram/bigram_normed/2.parquet\"),\n",
    "        pd.read_parquet(\"matrices/alvor_bigram/bigram_normed/3.parquet\"),\n",
    "        pd.read_parquet(\"matrices/alvor_bigram/bigram_normed/4.parquet\"),\n",
    "        pd.read_parquet(\"matrices/alvor_bigram/bigram_normed/5.parquet\"),\n",
    "        pd.read_parquet(\"matrices/alvor_bigram/bigram_normed/6.parquet\"),\n",
    "        pd.read_parquet(\"matrices/alvor_bigram/bigram_normed/7.parquet\"),\n",
    "        pd.read_parquet(\"matrices/alvor_bigram/bigram_normed/8.parquet\"),\n",
    "        pd.read_parquet(\"matrices/alvor_bigram/bigram_normed/9.parquet\"),\n",
    "        pd.read_parquet(\"matrices/alvor_bigram/bigram_normed/10.parquet\"),\n",
    "        pd.read_parquet(\"matrices/alvor_bigram/bigram_normed/11.parquet\"),\n",
    "    ],\n",
    "    ignore_index=True\n",
    ")\n",
    "\n",
    "bigram_more = pd.concat(\n",
    "    [\n",
    "        pd.read_parquet(\"matrices/alvor_bigram/bigram_more/0.parquet\"),\n",
    "        pd.read_parquet(\"matrices/alvor_bigram/bigram_more/1.parquet\"),\n",
    "        pd.read_parquet(\"matrices/alvor_bigram/bigram_more/2.parquet\"),\n",
    "        pd.read_parquet(\"matrices/alvor_bigram/bigram_more/3.parquet\"),\n",
    "        pd.read_parquet(\"matrices/alvor_bigram/bigram_more/4.parquet\"),\n",
    "        pd.read_parquet(\"matrices/alvor_bigram/bigram_more/5.parquet\"),\n",
    "        pd.read_parquet(\"matrices/alvor_bigram/bigram_more/6.parquet\"),\n",
    "        pd.read_parquet(\"matrices/alvor_bigram/bigram_more/7.parquet\"),\n",
    "        pd.read_parquet(\"matrices/alvor_bigram/bigram_more/8.parquet\"),\n",
    "        pd.read_parquet(\"matrices/alvor_bigram/bigram_more/9.parquet\"),\n",
    "        pd.read_parquet(\"matrices/alvor_bigram/bigram_more/10.parquet\"),\n",
    "        pd.read_parquet(\"matrices/alvor_bigram/bigram_more/11.parquet\"),\n",
    "    ],\n",
    "    ignore_index=True\n",
    ")\n",
    "\n",
    "cands = pd.read_parquet(\"output/alvor_candidates_big.parquet\")\n",
    "for col in bigram_normed.columns:\n",
    "    cands[col] = bigram_normed[col]\n",
    "for col in bigram_more.columns:\n",
    "    cands[col] = bigram_more[col]\n",
    "    \n",
    "cands.to_parquet(\"matrices/bigram_train_sirius.parquet\",index=False)"
   ]
  },
  {
   "cell_type": "code",
   "execution_count": 4,
   "id": "edb4c677",
   "metadata": {},
   "outputs": [],
   "source": [
    "bigram_normed = pd.concat(\n",
    "    [\n",
    "        pd.read_parquet(\"matrices/test_alvor_bigram/bigram_normed/0.parquet\"),\n",
    "        pd.read_parquet(\"matrices/test_alvor_bigram/bigram_normed/1.parquet\"),\n",
    "        pd.read_parquet(\"matrices/test_alvor_bigram/bigram_normed/2.parquet\"),\n",
    "        pd.read_parquet(\"matrices/test_alvor_bigram/bigram_normed/3.parquet\"),\n",
    "        pd.read_parquet(\"matrices/test_alvor_bigram/bigram_normed/4.parquet\"),\n",
    "        pd.read_parquet(\"matrices/test_alvor_bigram/bigram_normed/5.parquet\"),\n",
    "        pd.read_parquet(\"matrices/test_alvor_bigram/bigram_normed/6.parquet\"),\n",
    "        pd.read_parquet(\"matrices/test_alvor_bigram/bigram_normed/7.parquet\"),\n",
    "        pd.read_parquet(\"matrices/test_alvor_bigram/bigram_normed/8.parquet\"),\n",
    "        pd.read_parquet(\"matrices/test_alvor_bigram/bigram_normed/9.parquet\"),\n",
    "        pd.read_parquet(\"matrices/test_alvor_bigram/bigram_normed/10.parquet\"),\n",
    "        pd.read_parquet(\"matrices/test_alvor_bigram/bigram_normed/11.parquet\"),\n",
    "    ],\n",
    "    ignore_index=True\n",
    ")\n",
    "\n",
    "bigram_more = pd.concat(\n",
    "    [\n",
    "        pd.read_parquet(\"matrices/test_alvor_bigram/bigram_more/0.parquet\"),\n",
    "        pd.read_parquet(\"matrices/test_alvor_bigram/bigram_more/1.parquet\"),\n",
    "        pd.read_parquet(\"matrices/test_alvor_bigram/bigram_more/2.parquet\"),\n",
    "        pd.read_parquet(\"matrices/test_alvor_bigram/bigram_more/3.parquet\"),\n",
    "        pd.read_parquet(\"matrices/test_alvor_bigram/bigram_more/4.parquet\"),\n",
    "        pd.read_parquet(\"matrices/test_alvor_bigram/bigram_more/5.parquet\"),\n",
    "        pd.read_parquet(\"matrices/test_alvor_bigram/bigram_more/6.parquet\"),\n",
    "        pd.read_parquet(\"matrices/test_alvor_bigram/bigram_more/7.parquet\"),\n",
    "        pd.read_parquet(\"matrices/test_alvor_bigram/bigram_more/8.parquet\"),\n",
    "        pd.read_parquet(\"matrices/test_alvor_bigram/bigram_more/9.parquet\"),\n",
    "        pd.read_parquet(\"matrices/test_alvor_bigram/bigram_more/10.parquet\"),\n",
    "        pd.read_parquet(\"matrices/test_alvor_bigram/bigram_more/11.parquet\"),\n",
    "    ],\n",
    "    ignore_index=True\n",
    ")\n",
    "\n",
    "cands = pd.read_parquet(\"output/alvor_raw_predictions_596.parquet\", columns = ['session','aid'])\n",
    "for col in bigram_normed.columns:\n",
    "    cands[col] = bigram_normed[col]\n",
    "for col in bigram_more.columns:\n",
    "    cands[col] = bigram_more[col]\n",
    "\n",
    "l0 = len(pd.read_parquet(\"feats/feats_1_batch_0.pqt\",columns = ['session']))    \n",
    "l1 = len(pd.read_parquet(\"feats/feats_1_batch_1.pqt\",columns = ['session']))\n",
    "l2 = len(pd.read_parquet(\"feats/feats_1_batch_2.pqt\",columns = ['session']))\n",
    "l3 = len(pd.read_parquet(\"feats/feats_1_batch_3.pqt\",columns = ['session']))\n",
    "    \n",
    "cands[:l0].to_parquet(\"matrices/bigram_test_sirius_batch_0.parquet\",index=False)\n",
    "cands[l0:l0+l1].to_parquet(\"matrices/bigram_test_sirius_batch_1.parquet\",index=False)\n",
    "cands[l0+l1:l0+l1+l2].to_parquet(\"matrices/bigram_test_sirius_batch_2.parquet\",index=False)\n",
    "cands[l0+l1+l2:].to_parquet(\"matrices/bigram_test_sirius_batch_3.parquet\",index=False)"
   ]
  },
  {
   "cell_type": "code",
   "execution_count": 6,
   "id": "6f083925",
   "metadata": {},
   "outputs": [],
   "source": [
    "with open('matrices/bpr/bpr_u2emb.pkl', 'rb') as fp:\n",
    "    u2emb = pickle.load(fp)\n",
    "with open('matrices/bpr/bpr_i2emb.pkl', 'rb') as fp:\n",
    "    i2emb = pickle.load(fp)"
   ]
  },
  {
   "cell_type": "code",
   "execution_count": 7,
   "id": "59ef91b6",
   "metadata": {},
   "outputs": [],
   "source": [
    "dim = 64\n",
    "USER_ID = 'session'\n",
    "ITEM_ID = 'aid'"
   ]
  },
  {
   "cell_type": "code",
   "execution_count": 8,
   "id": "ffa0a7b2",
   "metadata": {},
   "outputs": [
    {
     "data": {
      "application/vnd.jupyter.widget-view+json": {
       "model_id": "729e0b34e92b432c8e2575a11d7e0b4e",
       "version_major": 2,
       "version_minor": 0
      },
      "text/plain": [
       "HBox(children=(FloatProgress(value=0.0, max=1.0), HTML(value='')))"
      ]
     },
     "metadata": {},
     "output_type": "display_data"
    },
    {
     "name": "stdout",
     "output_type": "stream",
     "text": [
      "\n"
     ]
    }
   ],
   "source": [
    "train_sample = pd.concat(\n",
    "    [\n",
    "        pd.read_parquet(\"feats/feats_0_batch_0.pqt\",columns = ['session','aid']),\n",
    "        pd.read_parquet(\"feats/feats_0_batch_1.pqt\",columns = ['session','aid']),\n",
    "        pd.read_parquet(\"feats/feats_0_batch_2.pqt\",columns = ['session','aid']),\n",
    "        pd.read_parquet(\"feats/feats_0_batch_3.pqt\",columns = ['session','aid']),\n",
    "    ],\n",
    "    ignore_index=True\n",
    ")\n",
    "\n",
    "default_emb = np.zeros(dim+1)\n",
    "\n",
    "def user_item_dot(user_id, item_id, u2emb, i2emb):\n",
    "    u_mat = np.stack([u2emb.get(u, default_emb) for u in user_id])\n",
    "    i_mat = np.stack([i2emb.get(i, default_emb) for i in item_id])\n",
    "    return np.sum(u_mat * i_mat, axis=1)\n",
    "\n",
    "name = 'bpr'\n",
    "chunk_size = 5000000\n",
    "chunk_cnt = len(train_sample) // chunk_size\n",
    "pred = np.concatenate([\n",
    "    user_item_dot(\n",
    "        train_sample[USER_ID].iloc[(c * chunk_size):((c + 1) * chunk_size)],\n",
    "        train_sample[ITEM_ID].iloc[(c * chunk_size):((c + 1) * chunk_size)],\n",
    "        u2emb, i2emb\n",
    "    ) for c in tqdm(range(chunk_cnt+1))\n",
    "])\n",
    "train_sample[name] = pred\n",
    "\n",
    "train_sample.to_parquet(\"matrices/bpr_train_big.parquet\",index=False)"
   ]
  },
  {
   "cell_type": "code",
   "execution_count": 10,
   "id": "10cafa34",
   "metadata": {},
   "outputs": [
    {
     "data": {
      "application/vnd.jupyter.widget-view+json": {
       "model_id": "65b18dbe01ad4fa4975f909155fb5ad1",
       "version_major": 2,
       "version_minor": 0
      },
      "text/plain": [
       "HBox(children=(FloatProgress(value=0.0, max=1.0), HTML(value='')))"
      ]
     },
     "metadata": {},
     "output_type": "display_data"
    },
    {
     "name": "stdout",
     "output_type": "stream",
     "text": [
      "\n"
     ]
    }
   ],
   "source": [
    "train_sample = pd.concat(\n",
    "    [\n",
    "        pd.read_parquet(\"feats/feats_0_batch_0_small.pqt\",columns = ['session','aid']),\n",
    "        pd.read_parquet(\"feats/feats_0_batch_1_small.pqt\",columns = ['session','aid']),\n",
    "        pd.read_parquet(\"feats/feats_0_batch_2_small.pqt\",columns = ['session','aid']),\n",
    "        pd.read_parquet(\"feats/feats_0_batch_3_small.pqt\",columns = ['session','aid']),\n",
    "    ],\n",
    "    ignore_index=True\n",
    ")\n",
    "\n",
    "default_emb = np.zeros(dim+1)\n",
    "\n",
    "def user_item_dot(user_id, item_id, u2emb, i2emb):\n",
    "    u_mat = np.stack([u2emb.get(u, default_emb) for u in user_id])\n",
    "    i_mat = np.stack([i2emb.get(i, default_emb) for i in item_id])\n",
    "    return np.sum(u_mat * i_mat, axis=1)\n",
    "\n",
    "name = 'bpr'\n",
    "chunk_size = 5000000\n",
    "chunk_cnt = len(train_sample) // chunk_size\n",
    "pred = np.concatenate([\n",
    "    user_item_dot(\n",
    "        train_sample[USER_ID].iloc[(c * chunk_size):((c + 1) * chunk_size)],\n",
    "        train_sample[ITEM_ID].iloc[(c * chunk_size):((c + 1) * chunk_size)],\n",
    "        u2emb, i2emb\n",
    "    ) for c in tqdm(range(chunk_cnt+1))\n",
    "])\n",
    "train_sample[name] = pred\n",
    "\n",
    "train_sample.to_parquet(\"matrices/bpr_train_small.parquet\",index=False)"
   ]
  },
  {
   "cell_type": "code",
   "execution_count": 12,
   "id": "5b88c3ad",
   "metadata": {},
   "outputs": [],
   "source": [
    "with open('matrices/test_bpr/bpr_u2emb.pkl', 'rb') as fp:\n",
    "    u2emb = pickle.load(fp)\n",
    "with open('matrices/test_bpr/bpr_i2emb.pkl', 'rb') as fp:\n",
    "    i2emb = pickle.load(fp)"
   ]
  },
  {
   "cell_type": "code",
   "execution_count": 13,
   "id": "4f0b1199",
   "metadata": {},
   "outputs": [
    {
     "data": {
      "application/vnd.jupyter.widget-view+json": {
       "model_id": "6b8ff29742864dcfa91fe6fb7144d89e",
       "version_major": 2,
       "version_minor": 0
      },
      "text/plain": [
       "HBox(children=(FloatProgress(value=0.0, max=1.0), HTML(value='')))"
      ]
     },
     "metadata": {},
     "output_type": "display_data"
    },
    {
     "name": "stdout",
     "output_type": "stream",
     "text": [
      "\n"
     ]
    }
   ],
   "source": [
    "train_sample = pd.concat(\n",
    "    [\n",
    "        pd.read_parquet(\"feats/feats_1_batch_0.pqt\",columns = ['session','aid']),\n",
    "        pd.read_parquet(\"feats/feats_1_batch_1.pqt\",columns = ['session','aid']),\n",
    "        pd.read_parquet(\"feats/feats_1_batch_2.pqt\",columns = ['session','aid']),\n",
    "        pd.read_parquet(\"feats/feats_1_batch_3.pqt\",columns = ['session','aid']),\n",
    "    ],\n",
    "    ignore_index=True\n",
    ")\n",
    "\n",
    "default_emb = np.zeros(dim+1)\n",
    "\n",
    "def user_item_dot(user_id, item_id, u2emb, i2emb):\n",
    "    u_mat = np.stack([u2emb.get(u, default_emb) for u in user_id])\n",
    "    i_mat = np.stack([i2emb.get(i, default_emb) for i in item_id])\n",
    "    return np.sum(u_mat * i_mat, axis=1)\n",
    "\n",
    "name = 'bpr'\n",
    "chunk_size = 5000000\n",
    "chunk_cnt = len(train_sample) // chunk_size\n",
    "pred = np.concatenate([\n",
    "    user_item_dot(\n",
    "        train_sample[USER_ID].iloc[(c * chunk_size):((c + 1) * chunk_size)],\n",
    "        train_sample[ITEM_ID].iloc[(c * chunk_size):((c + 1) * chunk_size)],\n",
    "        u2emb, i2emb\n",
    "    ) for c in tqdm(range(chunk_cnt+1))\n",
    "])\n",
    "train_sample[name] = pred\n",
    "\n",
    "train_sample[:l0].to_parquet(\"matrices/bpr_test_batch_0.parquet\",index=False)\n",
    "train_sample[l0:l0+l1].to_parquet(\"matrices/bpr_test_batch_1.parquet\",index=False)\n",
    "train_sample[l0+l1:l0+l1+l2].to_parquet(\"matrices/bpr_test_batch_2.parquet\",index=False)\n",
    "train_sample[l0+l1+l2:].to_parquet(\"matrices/bpr_test_batch_3.parquet\",index=False)"
   ]
  },
  {
   "cell_type": "code",
   "execution_count": null,
   "id": "1fdd5730",
   "metadata": {},
   "outputs": [],
   "source": []
  }
 ],
 "metadata": {
  "kernelspec": {
   "display_name": "Python 3",
   "language": "python",
   "name": "python3"
  },
  "language_info": {
   "codemirror_mode": {
    "name": "ipython",
    "version": 3
   },
   "file_extension": ".py",
   "mimetype": "text/x-python",
   "name": "python",
   "nbconvert_exporter": "python",
   "pygments_lexer": "ipython3",
   "version": "3.7.6"
  }
 },
 "nbformat": 4,
 "nbformat_minor": 5
}
